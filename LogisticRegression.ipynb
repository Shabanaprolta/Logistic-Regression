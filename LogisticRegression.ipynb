{
  "cells": [
    {
      "cell_type": "markdown",
      "metadata": {
        "id": "UeagojA7nTrc"
      },
      "source": [
        "# **Logistic Regression**"
      ]
    },
    {
      "cell_type": "markdown",
      "metadata": {
        "id": "IAoYKQKYnb4e"
      },
      "source": [
        "# **Theoretical Questions**\n",
        "\n",
        "#Q.1 What is Logistic Regression, and how does it differ from Linear Regression?\n",
        "-> Logistic Regression is a classification algorithm used to predict categorical ouycomes, whereas Linear Regression is used for continuous values. Logistic Regression uses the Sigmoid function to produce probability values between 0 and 1, while Linear Regression predicts real-valued outputs.\n",
        "\n",
        "#Q.2 What is the Mathemtical equation of Logistic Regression?\n",
        "-> The mathematical equation is for Probability Representation:\n",
        " $$  P(y=1|x) = \\frac{1}{1+e^{-\\theta^T x}} $$\n",
        "\n",
        "#Q.3 Why do we use the Sigmoid function in Logistic Regression?\n",
        "-> The Sigmoid function maps any real-values number to a range between 0 and 1, making it useful for probability estimation in binary classification tasks.\n",
        "\n",
        "#Q.4 What is the cost function of logistic Regression?\n",
        "->The cost function used is the Log Loss (Binary Cross-Entropy):\n",
        "$$       \n",
        "J(\\theta)= -\\frac{1}{m} \\sum_{i=1}^{m} \\left[ y^{(i)} \\log (h_{theta}(x^{(i)})+(1-y^{(i)}) \\log(1-h_{\\theta}(x^{(i)}) \\right]      \n",
        "$$\n",
        "\n",
        "#Q.5 What is Regularisation in Logistic Regression ? Why is it needed?\n",
        "-> Regularisation (L1/L2) prevents overfitting by adding a penalty term to the cost function.It helps in maintaining model simplicity and improving generalization.\n",
        "\n",
        "#Q.6 Explain the difference between Lasso, Ridge,and Elastic Net regression.\n",
        "->\n",
        "- Lasso (L1) : Shrinks some coefficients to zero(feature selection)\n",
        "- Ridge : Shrinks coefficients but does not eliminate them.\n",
        "- Elastic Net: A combination of L1 and L2 regularisation.\n",
        "\n",
        "#Q.7 When should we use Elastic Net instead of Lasso or Ridge?\n",
        "-> Elastic Net is preferable when there are many correlated features, as it combines the benefits of both Ridge and Lasso.\n",
        "\n",
        "#Q.8 What is the impact of the regularisation parameter (lambda) in Logistic Regression?\n",
        "-> A high (λ)leads to stronger regularisation (simpler models), while a low λ results in complex models that might overfit.\n",
        "\n",
        "#Q.9 What are the key assumptions of Logistic Regression?\n",
        "->\n",
        "- The dependent variable is categorical.\n",
        "- Independent variables should not be highly correlated (no multicollinearity).\n",
        "- Linearity in the log-odds.\n",
        "- Large sample size.\n",
        "\n",
        "#Q.10 What are some alternatives to Logistic Regression for classification tasks?\n",
        "->\n",
        "- Decision Trees\n",
        "- Support Vector Machines (SVM)\n",
        "- Random Forest\n",
        "- Neural Networks\n",
        "\n",
        "#Q.11 What are Classification Evaluation Metrics?\n",
        "->\n",
        "- Accuracy\n",
        "- Precision\n",
        "- Recall\n",
        "- F1-score\n",
        "- ROC-AUC\n",
        "\n",
        "#Q.12 How does class imbalance affect Logistic Regression?\n",
        "-> Logistic Regression can be biased towards the majority class, leading to poor predictions for minority classes. Techniques like class weighting or resampling help mitigate this.\n",
        "\n",
        "#Q.13 What is Hyperparameter Tuning in Logistic Regression?\n",
        "-> Adjusting parameters like regularisation strength (λ), solver type , and penalty type to improve model performance.\n",
        "\n",
        "#Q.14 What are different solvers in Logistic Regression? Which one should be used?\n",
        "->\n",
        "- liblinear: Suitable for small datasets.\n",
        "- saga: Works well with large datasets.\n",
        "- newton-cg, ibfgs: Used for multiclass problems.\n",
        "The choice depends on dataset size and problem type.\n",
        "\n",
        "#Q.15 How is Logistic Regression extended for multiclass classification?\n",
        "->\n",
        "- One-vs-Rest(OvR): Trains multiple binary classifiers.\n",
        "- Softmax Regression (Multinomial Logistic Regression): Directly predicts multiple classes.\n",
        "\n",
        "#Q.16 What are the advantages and disadvantages of Logistic Regression?\n",
        "->\n",
        "- Advantages : Simple, interpretable, and computationally efficient.\n",
        "- Disadvantages: Struggles with non-linear data and high-dimensional datasets.\n",
        "\n",
        "#Q.17 What are some use cases of Logistic Regression?\n",
        "->\n",
        "- Medical diagnosis (disese prediction).\n",
        "- Spam email classification.\n",
        "- Customer churn prediction.\n",
        "\n",
        "#Q.18 What is the difference between Softmax Regression and Logistic Regression?\n",
        "-> Logistic Regression is for binary classification, while Softmax Regression is used for multiclass classification by computing probabilities for multiple classes.\n",
        "\n",
        "#Q.19 How do we choose between One-vs-Rest (OvR) and Softmax for multiclass classification?\n",
        "->\n",
        "- OvR: Preferred when computatinal efficiency is needed.\n",
        "- Softmax: Preferred when a single model is sufficient and probability estimates for all classes are required.\n",
        "\n",
        "#Q.20 How do we interpret coefficients in Logistic Regression?\n",
        "-> The coefficients represents the log-odds change for a one-unit increase in the predictor variable. In terms of probability, exponentiating a coefficient gives the odds ratio.\n",
        "\n"
      ]
    },
    {
      "cell_type": "markdown",
      "metadata": {
        "id": "DNkgvvrwnV7j"
      },
      "source": [
        "# **Practical Questions**"
      ]
    },
    {
      "cell_type": "code",
      "execution_count": null,
      "metadata": {
        "colab": {
          "base_uri": "https://localhost:8080/"
        },
        "id": "vzBG2S2rIu9Q",
        "outputId": "280864a5-112e-49f6-b09b-2439494bca84"
      },
      "outputs": [
        {
          "name": "stdout",
          "output_type": "stream",
          "text": [
            "Model Accuracy: 1.00\n"
          ]
        }
      ],
      "source": [
        "#Q1 Write a Python program that loads a dataset, splits it into training and testing sets,applies logistic Regression, and prints the model accuracy.\n",
        "from sklearn.model_selection import train_test_split\n",
        "from sklearn.linear_model import LogisticRegression\n",
        "from sklearn.metrics import accuracy_score\n",
        "from sklearn.datasets import load_iris\n",
        "#Load datset\n",
        "data = load_iris()\n",
        "X,y = data.data, data.target\n",
        "\n",
        "X_train, X_test, y_train, y_test = train_test_split(X,y,test_size=0.2,random_state=42)\n",
        "model = LogisticRegression()\n",
        "model.fit(X_train,y_train)\n",
        "\n",
        "y_pred = model.predict(X_test)\n",
        "accuracy = accuracy_score(y_test,y_pred)\n",
        "print(f\"Model Accuracy: {accuracy:.2f}\")\n",
        "\n"
      ]
    },
    {
      "cell_type": "code",
      "execution_count": null,
      "metadata": {
        "colab": {
          "base_uri": "https://localhost:8080/"
        },
        "id": "ZjZot2LMniD2",
        "outputId": "64955bb6-e46f-4f7f-fc23-1e5e9bfa2a6a"
      },
      "outputs": [
        {
          "name": "stdout",
          "output_type": "stream",
          "text": [
            "Model Accuracy with L1 Regularization: 0.87\n"
          ]
        }
      ],
      "source": [
        "#Q2 Write a Python program to apply L1 regularisation (Lasso) on a dataset using LogisticRegression (penalty='l1') and print the model accuracy.\n",
        "model_l1 = LogisticRegression(penalty='l1',solver='liblinear',C=0.1)\n",
        "model_l1.fit(X_train,y_train)\n",
        "\n",
        "y_pred_l1 = model_l1.predict(X_test)\n",
        "accuracy_l1 = accuracy_score(y_test,y_pred_l1)\n",
        "print(f\"Model Accuracy with L1 Regularization: {accuracy_l1:.2f}\")"
      ]
    },
    {
      "cell_type": "code",
      "execution_count": null,
      "metadata": {
        "colab": {
          "base_uri": "https://localhost:8080/"
        },
        "id": "QbOJtjFVniBh",
        "outputId": "af972ad1-d814-4b8b-ed1d-c9bd76d49979"
      },
      "outputs": [
        {
          "name": "stdout",
          "output_type": "stream",
          "text": [
            "Model Accuracy with L2 Regularization: 1.00\n",
            "Coefficients: [[-0.39340204  0.96258576 -2.37510761 -0.99874603]\n",
            " [ 0.50840364 -0.25486503 -0.21301366 -0.77575487]\n",
            " [-0.1150016  -0.70772072  2.58812127  1.77450091]]\n"
          ]
        }
      ],
      "source": [
        "#Q3 Write a Python program to train Logistic Regression with L2 regularisation (Ridge) using Logistic Regression (penalty='l2'). Print model accuracy and coefficients.\n",
        "model_l2 = LogisticRegression(penalty='l2')\n",
        "model_l2.fit(X_train,y_train)\n",
        "\n",
        "y_pred_l2 = model_l2.predict(X_test)\n",
        "accuracy_l2 = accuracy_score(y_test,y_pred_l2)\n",
        "print(f\"Model Accuracy with L2 Regularization: {accuracy_l2:.2f}\")\n",
        "print(\"Coefficients:\", model_l2.coef_)"
      ]
    },
    {
      "cell_type": "code",
      "execution_count": null,
      "metadata": {
        "colab": {
          "base_uri": "https://localhost:8080/"
        },
        "id": "f5ICiN8zPCRi",
        "outputId": "44c19f44-f95e-4598-ddf6-c7869def9486"
      },
      "outputs": [
        {
          "name": "stdout",
          "output_type": "stream",
          "text": [
            "Model Accuracy with Elastic Net Regularisation: 1.00\n"
          ]
        }
      ],
      "source": [
        "#Q4 Write a Python Program to train Logistic Regression with Elastic Net Regularisation (penalty='elasticent').\n",
        "import numpy as np\n",
        "from sklearn.preprocessing import StandardScaler\n",
        "scaler = StandardScaler()\n",
        "X_train = scaler.fit_transform(X_train)\n",
        "X_test = scaler.transform(X_test)\n",
        "np.any(np.isnan(X_train)), np.any(np.isnan(X_test))\n",
        "\n",
        "model_elastic = LogisticRegression (penalty = 'elasticnet', solver = 'saga', l1_ratio = 0.5, max_iter = 5000)\n",
        "model_elastic.fit(X_train,y_train)\n",
        "\n",
        "y_pred_elastic = model_elastic.predict(X_test)\n",
        "accuracy_elastic = accuracy_score(y_test, y_pred_elastic)\n",
        "print(f\"Model Accuracy with Elastic Net Regularisation: {accuracy_elastic:.2f}\")"
      ]
    },
    {
      "cell_type": "code",
      "execution_count": null,
      "metadata": {
        "colab": {
          "base_uri": "https://localhost:8080/"
        },
        "id": "ED1TW2LMYQ_G",
        "outputId": "25c02d58-4ecf-4e59-99ef-23c02793facb"
      },
      "outputs": [
        {
          "name": "stdout",
          "output_type": "stream",
          "text": [
            "Model Accuracy with One-vs-Rest Regularisation: 1.00\n"
          ]
        }
      ],
      "source": [
        "#Q5 Write a Python Program to train a Logistic Regression model for multiclass classification using multi_class='ovr'.\n",
        "import numpy as np\n",
        "import pandas as pd\n",
        "from sklearn.linear_model import LogisticRegression\n",
        "from sklearn.metrics import accuracy_score\n",
        "from sklearn.preprocessing import StandardScaler\n",
        "scaler = StandardScaler()\n",
        "\n",
        "X_train_scaled = scaler.fit_transform(X_train)\n",
        "X_test_scaled = scaler.transform(X_test)\n",
        "model_ovr = LogisticRegression()\n",
        "model_ovr.fit(X_train_scaled,y_train)\n",
        "y_pred_ovr = model_ovr.predict(X_test_scaled)\n",
        "accuracy_ovr = accuracy_score(y_test,y_pred_ovr)\n",
        "print(f\"Model Accuracy with One-vs-Rest Regularisation: {accuracy_ovr:.2f}\")\n",
        "\n",
        "\n",
        "\n",
        "\n"
      ]
    },
    {
      "cell_type": "code",
      "execution_count": null,
      "metadata": {
        "colab": {
          "base_uri": "https://localhost:8080/"
        },
        "id": "JTm0PuU-eqt2",
        "outputId": "864f9d59-981d-4e46-bdaa-d1522a8738fc"
      },
      "outputs": [
        {
          "name": "stdout",
          "output_type": "stream",
          "text": [
            "Best Parameters: {'C': 1, 'penalty': 'l2', 'solver': 'saga'}\n",
            "Best Accuracy: 0.96\n"
          ]
        }
      ],
      "source": [
        "#Q6 Write a Python program to apply Grid SearchCV to tune the hyperparameter (C and penalty) of Logistic Regression. Print the best parameters and accuracy.\n",
        "from sklearn.model_selection import GridSearchCV\n",
        "from sklearn.linear_model import LogisticRegression\n",
        "\n",
        "param_grid = {'C': [0.1,1,10], 'penalty': ['l1','l2'], 'solver':['liblinear','saga']}\n",
        "grid_search = GridSearchCV(LogisticRegression(max_iter = 5000),param_grid,cv=5)\n",
        "grid_search.fit(X_train_scaled,y_train)\n",
        "\n",
        "print(\"Best Parameters:\", grid_search.best_params_)\n",
        "print(f\"Best Accuracy: {grid_search.best_score_:.2f}\")"
      ]
    },
    {
      "cell_type": "code",
      "execution_count": null,
      "metadata": {
        "colab": {
          "base_uri": "https://localhost:8080/"
        },
        "id": "PMskBFTPnhyp",
        "outputId": "34deac1e-f373-4ad9-9a62-34f86b7945da"
      },
      "outputs": [
        {
          "name": "stdout",
          "output_type": "stream",
          "text": [
            "Average Accuracy: 0.97\n"
          ]
        }
      ],
      "source": [
        "#Q7 Write a Python program to evaluate Logistic Regression using Stratified K-Fold Cross-Validation. Print the average accuracy.\n",
        "from sklearn.model_selection import StratifiedKFold, cross_val_score\n",
        "from sklearn.linear_model import LogisticRegression\n",
        "import numpy as np\n",
        "model = LogisticRegression(max_iter = 5000)\n",
        "skf = StratifiedKFold(n_splits= 5)\n",
        "scores = cross_val_score(model,X,y,cv = skf)\n",
        "average_accuracy = np.mean(scores)\n",
        "print(f\"Average Accuracy: {average_accuracy:.2f}\")\n"
      ]
    },
    {
      "cell_type": "code",
      "execution_count": null,
      "metadata": {
        "colab": {
          "base_uri": "https://localhost:8080/"
        },
        "id": "5HeB-4hZxfu_",
        "outputId": "0dd3a3d2-7ecb-4835-9e0a-5c0466a155e6"
      },
      "outputs": [
        {
          "name": "stdout",
          "output_type": "stream",
          "text": [
            "Model Accuracy: 0.75\n"
          ]
        }
      ],
      "source": [
        "#Q8 Write a Python program to load a dataset from a CSV file, apply Logistic Regression, and evaluate its accuracy.\n",
        "import pandas as pd\n",
        "import numpy as np\n",
        "from sklearn.linear_model import LogisticRegression\n",
        "from sklearn.model_selection import train_test_split\n",
        "from sklearn.metrics import accuracy_score\n",
        "\n",
        "df= pd.read_csv('diabetes.csv')\n",
        "X= df.iloc[:,:-1]\n",
        "y= df.iloc[:,-1]\n",
        "\n",
        "X_train, X_test, y_train, y_test = train_test_split(X,y,test_size=0.2,random_state=42)\n",
        "model = LogisticRegression(max_iter = 1000)\n",
        "model.fit(X_train,y_train)\n",
        "y_pred = model.predict(X_test)\n",
        "accuracy = accuracy_score(y_test,y_pred)\n",
        "print(f\"Model Accuracy: {accuracy:.2f}\")"
      ]
    },
    {
      "cell_type": "code",
      "execution_count": null,
      "metadata": {
        "colab": {
          "base_uri": "https://localhost:8080/"
        },
        "id": "fhnn7VNhnhpB",
        "outputId": "3f805a84-0810-439d-9689-116025bbc25f"
      },
      "outputs": [
        {
          "name": "stdout",
          "output_type": "stream",
          "text": [
            "Best Parameters: {'solver': 'liblinear', 'penalty': 'l1', 'C': 10}\n",
            "Best Accuracy: 0.77\n"
          ]
        }
      ],
      "source": [
        "#Q9 Write a Python program to apply RandomizedSearchCV for tuning hyperparameter (C, penalty, solver) in Logistic Regression. Print the best parameter and accuracy.\n",
        "from sklearn.model_selection import RandomizedSearchCV\n",
        "\n",
        "param_dist = {'C': [0.1, 1 , 10], 'penalty': ['l1', 'l2'], 'solver': ['liblinear', 'saga']}\n",
        "random_search = RandomizedSearchCV(LogisticRegression(max_iter = 10000),param_dist,cv=5,n_iter=5)\n",
        "random_search.fit(X_train , y_train)\n",
        "print(\"Best Parameters:\" , random_search.best_params_)\n",
        "print(f\"Best Accuracy: {random_search.best_score_:.2f}\")"
      ]
    },
    {
      "cell_type": "code",
      "execution_count": null,
      "metadata": {
        "colab": {
          "base_uri": "https://localhost:8080/"
        },
        "id": "je2WZo_tnhlI",
        "outputId": "92b61ed6-0840-48a0-9b90-52a8fe2fbb70"
      },
      "outputs": [
        {
          "name": "stdout",
          "output_type": "stream",
          "text": [
            "Model Accuracy with One-vs-One Regularisation: 0.74\n"
          ]
        }
      ],
      "source": [
        "#Q10 Write a Python program to implement One-vs-One(OvO) Multiclass Logistic Regression and print accuracy.\n",
        "model_ovo = LogisticRegression(solver = 'saga',penalty ='elasticnet', l1_ratio = 0.5, max_iter = 5000)\n",
        "model_ovo.fit(X_train,y_train)\n",
        "\n",
        "y_pred_ovo = model_ovo.predict(X_test)\n",
        "accuracy_ovo = accuracy_score(y_test,y_pred_ovo)\n",
        "print(f\"Model Accuracy with One-vs-One Regularisation: {accuracy_ovo:.2f}\")"
      ]
    },
    {
      "cell_type": "code",
      "execution_count": null,
      "metadata": {
        "colab": {
          "base_uri": "https://localhost:8080/",
          "height": 555
        },
        "id": "MVgfsgR08Fwu",
        "outputId": "b5183270-4073-454c-a788-9feab87b010d"
      },
      "outputs": [
        {
          "data": {
            "image/png": "[encoded data removed]",
            "text/plain": [
              "<Figure size 800x600 with 2 Axes>"
            ]
          },
          "metadata": {},
          "output_type": "display_data"
        }
      ],
      "source": [
        "#Q11 Write a Python Program to train a Logistic Regression model and visualize the confusion matrix for binary classification.\n",
        "import matplotlib.pyplot as plt\n",
        "import seaborn as sns\n",
        "from sklearn.metrics import confusion_matrix\n",
        "\n",
        "binary_model = LogisticRegression(max_iter = 1000)\n",
        "binary_model.fit(X_train,y_train)\n",
        "\n",
        "y_pred_binary = binary_model.predict(X_test)\n",
        "cm = confusion_matrix(y_test,y_pred_binary)\n",
        "\n",
        "plt.figure(figsize=(8,6))\n",
        "sns.heatmap(cm, annot=True, fmt='d', cmap = 'Blues')\n",
        "plt.xlabel('Predicted')\n",
        "plt.ylabel('Actual')\n",
        "plt.title('Confusion Matrix')\n",
        "plt.show()\n"
      ]
    },
    {
      "cell_type": "code",
      "execution_count": null,
      "metadata": {
        "colab": {
          "base_uri": "https://localhost:8080/"
        },
        "id": "MhuuI_xU_9yi",
        "outputId": "a02800a7-68d0-4267-82d0-0a491747d1f0"
      },
      "outputs": [
        {
          "name": "stdout",
          "output_type": "stream",
          "text": [
            "Precision: 0.73\n",
            "Recall: 0.73\n",
            "F1-Score: 0.73\n"
          ]
        }
      ],
      "source": [
        "#Q12 Write a Python program to train a Logistic Regression model and evaluate its performance using Precision, Recall, and F-1 Score.\n",
        "from sklearn.metrics import precision_score, recall_score, f1_score\n",
        "\n",
        "precision = precision_score(y_test , y_pred, average ='macro')\n",
        "recall = recall_score(y_test,y_pred, average = 'macro')\n",
        "f1 = f1_score(y_test, y_pred, average = 'macro')\n",
        "\n",
        "print(f\"Precision: {precision:.2f}\")\n",
        "print(f\"Recall: {recall:.2f}\")\n",
        "print(f\"F1-Score: {f1:.2f}\")\n"
      ]
    },
    {
      "cell_type": "code",
      "execution_count": null,
      "metadata": {
        "colab": {
          "base_uri": "https://localhost:8080/"
        },
        "id": "L66E3yIbnhYm",
        "outputId": "f8b03047-e4eb-4326-bd76-083bf3e440ab"
      },
      "outputs": [
        {
          "name": "stdout",
          "output_type": "stream",
          "text": [
            "Weighted Model Accuracy : 0.69\n"
          ]
        }
      ],
      "source": [
        "#Q13 Write a Python program to train a Logistic Regression model on imbalanced data and apply class weights to improve model performance.\n",
        "from sklearn.linear_model import LogisticRegression\n",
        "from sklearn.utils.class_weight import compute_class_weight\n",
        "class_weights = compute_class_weight('balanced',classes = np.unique(y_train),y = y_train)\n",
        "weight_dict = {i: class_weights[i]for i in range(len(class_weights))}\n",
        "\n",
        "model_weighted = LogisticRegression(class_weight = weight_dict, max_iter = 5000)\n",
        "model_weighted.fit(X_train,y_train)\n",
        "\n",
        "y_pred_weighted = model_weighted.predict(X_test)\n",
        "accuracy_weighted = accuracy_score(y_test, y_pred_weighted)\n",
        "print(f\"Weighted Model Accuracy : {accuracy_weighted:.2f}\")\n",
        "\n"
      ]
    },
    {
      "cell_type": "code",
      "execution_count": null,
      "metadata": {
        "colab": {
          "base_uri": "https://localhost:8080/"
        },
        "id": "3e1TOdWWJ36S",
        "outputId": "d32772ff-c87c-43e6-90f3-3e460569cfe6"
      },
      "outputs": [
        {
          "output_type": "stream",
          "name": "stdout",
          "text": [
            "Titanic Model Accuracy: 0.82\n"
          ]
        }
      ],
      "source": [
        "#Q14 Write a Python program to train Logistic Regression on the titanic dataset, handle missing values, and evaluate performance.\n",
        "from sklearn.model_selection import train_test_split\n",
        "import pandas as pd\n",
        "from sklearn.linear_model import LogisticRegression\n",
        "df = pd.read_csv('Titanic.csv')\n",
        "numeric_df = df.select_dtypes(include=['number'])\n",
        "numeric_df.fillna(numeric_df.median(),inplace = True)\n",
        "df[numeric_df.columns] = numeric_df\n",
        "df = pd.get_dummies(df,drop_first = True)\n",
        "X = df.drop('Survived',axis = 1)\n",
        "y = df['Survived']\n",
        "\n",
        "X_train, X_test, y_train, y_test = train_test_split(X,y,test_size=0.2,random_state= 42)\n",
        "\n",
        "model_titanic= LogisticRegression(max_iter=5000)\n",
        "model_titanic.fit(X_train,y_train)\n",
        "\n",
        "accuracy_titanic = model_titanic.score(X_test,y_test)\n",
        "print(f\"Titanic Model Accuracy: {accuracy_titanic:.2f}\")"
      ]
    },
    {
      "cell_type": "code",
      "execution_count": null,
      "metadata": {
        "id": "uUdMZD4cnhPg",
        "colab": {
          "base_uri": "https://localhost:8080/"
        },
        "outputId": "1b6f14b3-78b4-4714-aa43-7f930f78c25b"
      },
      "outputs": [
        {
          "output_type": "stream",
          "name": "stdout",
          "text": [
            "Scaled Data Model Accuracy : 0.743017\n"
          ]
        }
      ],
      "source": [
        "#Q15 Write a Python program to apply feature scaling (Standardization) before training a Logistic Regression model. Evaluate its accuracy and compare results with and without scaling.\n",
        "from sklearn.preprocessing import StandardScaler\n",
        "scaler = StandardScaler()\n",
        "X_train_scaled = scaler.fit_transform(X_train)\n",
        "X_test_scaled = scaler.transform(X_test)\n",
        "model_titanic_scaled = LogisticRegression()\n",
        "model_titanic_scaled.fit(X_train_scaled,y_train)\n",
        "\n",
        "accuracy_titanic_scaled = model_titanic_scaled.score(X_test_scaled, y_test)\n",
        "print(f\"Scaled Data Model Accuracy : {accuracy_titanic_scaled:2f}\")"
      ]
    },
    {
      "cell_type": "code",
      "execution_count": null,
      "metadata": {
        "id": "1dVd98SRnhLT",
        "colab": {
          "base_uri": "https://localhost:8080/"
        },
        "outputId": "9a97a6a8-e511-4951-c8d9-ff84aaf0f431"
      },
      "outputs": [
        {
          "output_type": "stream",
          "name": "stdout",
          "text": [
            "ROC-AUC Score: 0.89\n"
          ]
        }
      ],
      "source": [
        "#Q16 Write a Python program to train Logistic Regression and evaluate its performance using ROC - AUC score.\n",
        "from sklearn.metrics import roc_auc_score\n",
        "\n",
        "y_prob = model_titanic.predict_proba(X_test)[:,1]\n",
        "\n",
        "roc_auc = roc_auc_score(y_test,y_prob)\n",
        "print(f\"ROC-AUC Score: {roc_auc:.2f}\")\n"
      ]
    },
    {
      "cell_type": "code",
      "execution_count": null,
      "metadata": {
        "id": "9NSscBkonhGW",
        "colab": {
          "base_uri": "https://localhost:8080/"
        },
        "outputId": "d5846441-ee76-47fc-d466-9fd6d7832637"
      },
      "outputs": [
        {
          "output_type": "stream",
          "name": "stdout",
          "text": [
            "Model Accuracy with C=0.5: 0.81\n"
          ]
        }
      ],
      "source": [
        "#Q17 Write a Python program to train Logistic Regression using a custom learning rate (c=0.5) and evaluate accuracy.\n",
        "model_custom = LogisticRegression(C=0.5, max_iter = 5000)\n",
        "model_custom.fit(X_train,y_train)\n",
        "\n",
        "y_pred_custom = model_custom.predict(X_test)\n",
        "accuracy_custom = accuracy_score(y_test,y_pred_custom)\n",
        "print(f\"Model Accuracy with C=0.5: {accuracy_custom:.2f}\")"
      ]
    },
    {
      "cell_type": "code",
      "execution_count": null,
      "metadata": {
        "id": "YQq-UnmFnhCM",
        "colab": {
          "base_uri": "https://localhost:8080/"
        },
        "outputId": "6cd9193b-4ed9-4345-aaec-de99fe237126"
      },
      "outputs": [
        {
          "output_type": "stream",
          "name": "stdout",
          "text": [
            "Feature Importance:\n",
            " Ticket_1601          1.506605\n",
            "Ticket_C.A. 37671    1.105927\n",
            "Ticket_367226        0.907258\n",
            "Ticket_347742        0.888092\n",
            "Ticket_347077        0.881728\n",
            "                       ...   \n",
            "Ticket_2665         -0.804196\n",
            "Ticket_349909       -0.889138\n",
            "Ticket_347082       -0.932119\n",
            "Pclass              -0.954093\n",
            "Sex_male            -2.761166\n",
            "Length: 1725, dtype: float64\n"
          ]
        }
      ],
      "source": [
        "#Q18 Write a Python program to train Logistic Regression and identify important features based on model coefficients.\n",
        "feature_importance = pd.Series(model_titanic.coef_[0], index = X_train.columns)\n",
        "print(\"Feature Importance:\\n\", feature_importance.sort_values(ascending = False))"
      ]
    },
    {
      "cell_type": "code",
      "execution_count": null,
      "metadata": {
        "id": "qBpJXczmng4S",
        "colab": {
          "base_uri": "https://localhost:8080/"
        },
        "outputId": "15e42fb5-ac91-4aec-97bc-4aef36bfa646"
      },
      "outputs": [
        {
          "output_type": "stream",
          "name": "stdout",
          "text": [
            "Cohen's kappa Score: 0.62\n"
          ]
        }
      ],
      "source": [
        "#Q19 Write a python program to train Logistic Regression and evaluate its performance using Cohen's kappa score.\n",
        "from sklearn.metrics import cohen_kappa_score\n",
        "y_pred = model_titanic.predict(X_test)\n",
        "\n",
        "kappa_score = cohen_kappa_score(y_test, y_pred)\n",
        "print(f\"Cohen's kappa Score: {kappa_score:.2f}\")"
      ]
    },
    {
      "cell_type": "code",
      "execution_count": null,
      "metadata": {
        "id": "XntuVXCRnntq",
        "colab": {
          "base_uri": "https://localhost:8080/",
          "height": 472
        },
        "outputId": "87f76a8b-b0c0-4830-cf71-88d04d30e278"
      },
      "outputs": [
        {
          "output_type": "display_data",
          "data": {
            "text/plain": [
              "<Figure size 640x480 with 1 Axes>"
            ],
            "image/png": "[encoded data removed]"
          },
          "metadata": {}
        }
      ],
      "source": [
        "#Q20 Write a Python program to train Logistic Regression and visualize the Precision- Recall Curve for binary classification.\n",
        "from sklearn.metrics import precision_recall_curve\n",
        "import matplotlib.pyplot as plt\n",
        "\n",
        "y_prob = model_titanic.predict_proba(X_test)[:,1]\n",
        "precision, recall, _ = precision_recall_curve(y_test,y_prob)\n",
        "plt.plot(recall,precision)\n",
        "plt.xlabel('Recall')\n",
        "plt.ylabel('Precision')\n",
        "plt.title('Precision-Recall Curve')\n",
        "plt.show()"
      ]
    },
    {
      "cell_type": "code",
      "execution_count": null,
      "metadata": {
        "id": "fKOB0uvgnnnb",
        "colab": {
          "base_uri": "https://localhost:8080/"
        },
        "outputId": "b720b9da-f7ac-4f7f-b08b-e1fe1274ecca"
      },
      "outputs": [
        {
          "output_type": "stream",
          "name": "stdout",
          "text": [
            "Solver: liblinear, Accuracy: 0.09\n",
            "Solver: saga, Accuracy: 0.09\n",
            "Solver: lbfgs, Accuracy: 0.09\n"
          ]
        }
      ],
      "source": [
        "#Q21 Write a Python program to train Logistic Regression with different solvers (liblinear,saga,ibfgs) and compare their accuracy.\n",
        "from sklearn.linear_model import LogisticRegression\n",
        "from sklearn.model_selection import train_test_split\n",
        "import pandas as pd\n",
        "df = pd.read_csv('diabetes.csv')\n",
        "X = df.drop('Age', axis = 1)\n",
        "y = df['Age']\n",
        "\n",
        "X_train, X_test, y_train, y_test = train_test_split(X,y,test_size = 0.2, random_state= 42)\n",
        "solvers = ['liblinear','saga','lbfgs']\n",
        "for solver in solvers:\n",
        "  model_solver = LogisticRegression(max_iter = 5000,solver = 'saga')\n",
        "  model_solver.fit(X_train,y_train)\n",
        "\n",
        "  accuracy_solver = model_solver = model_solver.score(X_test,y_test)\n",
        "  print(f\"Solver: {solver}, Accuracy: {accuracy_solver:.2f}\")"
      ]
    },
    {
      "cell_type": "code",
      "execution_count": null,
      "metadata": {
        "id": "Ryer3EaNnnfm",
        "colab": {
          "base_uri": "https://localhost:8080/"
        },
        "outputId": "71e0ae08-d5eb-4e36-e104-81c682e9ba73"
      },
      "outputs": [
        {
          "output_type": "stream",
          "name": "stdout",
          "text": [
            "Matthews Correlation Coefficient: 0.62\n"
          ]
        }
      ],
      "source": [
        "#Q22 Write a Python program to train Logistic Regression and evaluate its performance using Matthews Correlation  Coefficient(MCC).\n",
        "from sklearn.metrics import matthews_corrcoef\n",
        "import pandas as pd\n",
        "df= pd.read_csv('Titanic.csv')\n",
        "numeric_df = df.select_dtypes(include=['number'])\n",
        "numeric_df.fillna(numeric_df.median(),inplace = True)\n",
        "df[numeric_df.columns] = numeric_df\n",
        "df = pd.get_dummies(df,drop_first = True)\n",
        "X = df.drop('Survived', axis =1 )\n",
        "y = df['Survived']\n",
        "\n",
        "X_train, X_test, y_train, y_test = train_test_split(X,y,test_size = 0.2, random_state = 42)\n",
        "model_titanic = LogisticRegression(max_iter=5000)\n",
        "model_titanic.fit(X_train,y_train)\n",
        "y_pred  = model_titanic.predict(X_test)\n",
        "mcc = matthews_corrcoef(y_test, y_pred)\n",
        "print(f\"Matthews Correlation Coefficient: {mcc:.2f}\")"
      ]
    },
    {
      "cell_type": "code",
      "execution_count": null,
      "metadata": {
        "id": "jXLk2jfennXi",
        "colab": {
          "base_uri": "https://localhost:8080/"
        },
        "outputId": "25621906-8786-423e-d837-512e39976065"
      },
      "outputs": [
        {
          "output_type": "stream",
          "name": "stdout",
          "text": [
            "Raw Data Model Accuracy: 0.82\n",
            "Standardized Data MOdel Accuracy: 0.74\n"
          ]
        }
      ],
      "source": [
        "#Q23 Write a Python program to train Logistic Regression on both raw and standarized data. Compare their accuracy to see the impact of feature scaling.\n",
        "from sklearn.preprocessing import StandardScaler\n",
        "accuracy_raw = model_titanic.score(X_test,y_test)\n",
        "scaler = StandardScaler()\n",
        "X_train_scaled = scaler.fit_transform(X_train)\n",
        "X_test_scaled = scaler.transform(X_test)\n",
        "model_scaled = LogisticRegression(max_iter = 5000)\n",
        "model_scaled.fit(X_train_scaled,y_train)\n",
        "accuracy_scaled = model_scaled.score(X_test_scaled,y_test)\n",
        "print(f\"Raw Data Model Accuracy: {accuracy_raw:.2f}\")\n",
        "print(f\"Standardized Data MOdel Accuracy: {accuracy_scaled:.2f}\")"
      ]
    },
    {
      "cell_type": "code",
      "execution_count": null,
      "metadata": {
        "id": "tGKMJtL7nnNp",
        "colab": {
          "base_uri": "https://localhost:8080/"
        },
        "outputId": "aca340aa-b735-4f42-8c4a-5ada8e14fbe7"
      },
      "outputs": [
        {
          "output_type": "stream",
          "name": "stdout",
          "text": [
            "Best C Value: 100\n"
          ]
        }
      ],
      "source": [
        "#Q24 Write a Python program to train Logistic Regression and find the optimal c (reglarixation strength) using cross-validation.\n",
        "from sklearn.model_selection import cross_val_score\n",
        "import numpy as np\n",
        "C_values = [0.01,0.1,1,10,100]\n",
        "best_C = max(C_values,key = lambda c : np.mean(cross_val_score(LogisticRegression(max_iter = 5000,C=c),X_train,y_train,cv=5)))\n",
        "print(f\"Best C Value: {best_C}\")"
      ]
    },
    {
      "cell_type": "code",
      "execution_count": 48,
      "metadata": {
        "id": "W2kHtYC2qjWd",
        "colab": {
          "base_uri": "https://localhost:8080/"
        },
        "outputId": "4b8e8907-50fa-4080-a884-cc358e3ce9b4"
      },
      "outputs": [
        {
          "output_type": "stream",
          "name": "stdout",
          "text": [
            "Loaded Model Accuracy: 0.82\n"
          ]
        }
      ],
      "source": [
        "#Q25 Write a Python program to train Logistic Regression, save the trained model using joblib, and load it again to make predictions.\n",
        "import joblib\n",
        "from sklearn.linear_model import LogisticRegression\n",
        "from sklearn.metrics import accuracy_score\n",
        "model = LogisticRegression(max_iter =5000)\n",
        "model.fit(X_train,y_train)\n",
        "joblib.dump(model,'logistic_regression.pkl')\n",
        "loaded_model= joblib.load('logistic_regression.pkl')\n",
        "y_pred_loaded = loaded_model.predict(X_test)\n",
        "print(f\"Loaded Model Accuracy: {accuracy_score(y_test,y_pred_loaded):.2f}\")"
      ]
    }
  ],
  "metadata": {
    "colab": {
      "provenance": []
    },
    "kernelspec": {
      "display_name": "Python 3",
      "name": "python3"
    },
    "language_info": {
      "name": "python"
    }
  },
  "nbformat": 4,
  "nbformat_minor": 0
}